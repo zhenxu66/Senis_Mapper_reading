{
 "cells": [
  {
   "cell_type": "code",
   "execution_count": 1,
   "metadata": {
    "collapsed": true
   },
   "outputs": [],
   "source": [
    "import pandas as pd\n",
    "import numpy as np\n",
    "import scipy.fftpack\n",
    "import matplotlib.pyplot as plt\n",
    "#%matplotlib inline\n",
    "from itertools import islice\n",
    "#import mpld3\n",
    "#mpld3.enable_notebook()"
   ]
  },
  {
   "cell_type": "code",
   "execution_count": 45,
   "metadata": {
    "collapsed": false
   },
   "outputs": [
    {
     "name": "stdout",
     "output_type": "stream",
     "text": [
      "[10, 32, 36048, 36541]\n"
     ]
    }
   ],
   "source": [
    "'''File Manipulations, get rid of headers and footer length, get command part and scanning details part'''\n",
    "folder = 'Allegro_txt/'   #raw_mapper_txt\n",
    "#Test1_Allergo_0.txt  Test2_2_Allergo_+1.txt Test3_Allergo_+2.txt  Test4_Allergo_+3.txt\n",
    "filename = 'Test7_Allergo_-3.txt'  #Boston_18_test3_18   BD_18_R_Test2_18\n",
    "path =folder+ filename\n",
    "\n",
    "f_obj=open(path)\n",
    "f_lines=f_obj.readlines()\n",
    "line_star=[]\n",
    "i=0\n",
    "for line in f_lines:\n",
    "    i+=1\n",
    "    if line[0]=='*':\n",
    "        if len(line) == 425:  #length of star divider\n",
    "            line_star.append(i)\n",
    "print(line_star)\n",
    "\n",
    "#with open(filename) as f_obj: \n",
    "#    head = list(islice(f_obj, 10))\n",
    "#print(head)\n",
    "#print('*******This is the test details**********\\n')\n",
    "#for i in np.arange(line_star[0],line_star[1]-1,1):\n",
    "#    print(f_lines[i])\n",
    "\n",
    "#print('*******This is the test command**********\\n')\n",
    "#for i in np.arange(0,line_star[0]-1,1):\n",
    "#    print(f_lines[i])\n",
    "last_line_header = line_star[1]+1\n",
    "N_footer_line = line_star[3]-line_star[2]+2"
   ]
  },
  {
   "cell_type": "code",
   "execution_count": 46,
   "metadata": {
    "collapsed": false
   },
   "outputs": [
    {
     "name": "stdout",
     "output_type": "stream",
     "text": [
      "This test has 10 slices with 3601.0points each\n"
     ]
    }
   ],
   "source": [
    "'''Generate Slice information and export to csv with just data'''\n",
    "data = pd.read_csv(path, sep=\"\\t\", header=last_line_header,skipfooter=N_footer_line,engine='python')  \n",
    "#header 32 means 0-32 33line remove\n",
    "#data = pd.read_csv('txt/_(256).txt', sep=\"\\t\", header=30,skipfooter=152,engine='python')  #257 good #256 bad\n",
    "data.columns=['Slice','Line','X [mm]','Y [mm]','Z [mm]','Rotation [deg]','Bx [mT]','By [mT]','Bz [mT]','Rot. Enc [steps]',\n",
    "              'Bxy [mT]','Btot [mT]','Angle error [deg]','Direction','R [mm]','Z2 [mm]','Theta [deg]','Probe temp [°C]']\n",
    "data['degz_xyplane (deg)']=np.arccos(data['Bxy [mT]']/data['Btot [mT]'])*180/np.pi\n",
    "N_slice = len(data.Slice.unique())\n",
    "print('This test has '+str(N_slice)+' slices with ' + str(len(data)/N_slice)+ 'points each')\n",
    "#data.head()\n",
    "data.to_csv('csv_out/'+filename+'.csv')"
   ]
  },
  {
   "cell_type": "code",
   "execution_count": 47,
   "metadata": {
    "collapsed": false
   },
   "outputs": [
    {
     "name": "stdout",
     "output_type": "stream",
     "text": [
      "X      10\n",
      "Y       2\n",
      "Z       1\n",
      "R    3601\n",
      "dtype: int64\n",
      "This multiple slices is along the direction of: X\n"
     ]
    },
    {
     "data": {
      "text/plain": [
       "\"i=0\\nfor value in N_unique:\\n    if value==N_slice:\\n        Direction = Direction_list[i]\\nprint('This multiple slices is along the direction of: '+Direction)\""
      ]
     },
     "execution_count": 47,
     "metadata": {},
     "output_type": "execute_result"
    }
   ],
   "source": [
    "N_unique=[len(data['X [mm]'].unique()),len(data['Y [mm]'].unique()),len(data['Z [mm]'].unique()),len(data['Rotation [deg]'].unique())]\n",
    "#print(N_unique)\n",
    "Direction_list=['X','Y','Z','R']\n",
    "#dict_unqiue = dict(zip(Direction_list, N_unique))\n",
    "#print(dict_unqiue) not good for search \n",
    "\n",
    "s_unique = pd.Series(N_unique,index=Direction_list)\n",
    "print(s_unique)\n",
    "print('This multiple slices is along the direction of: '+s_unique[s_unique==N_slice].index[0])\n",
    "\n",
    "'''i=0\n",
    "for value in N_unique:\n",
    "    if value==N_slice:\n",
    "        Direction = Direction_list[i]\n",
    "print('This multiple slices is along the direction of: '+Direction)'''"
   ]
  },
  {
   "cell_type": "code",
   "execution_count": 48,
   "metadata": {
    "collapsed": false
   },
   "outputs": [
    {
     "data": {
      "text/plain": [
       "False"
      ]
     },
     "execution_count": 48,
     "metadata": {},
     "output_type": "execute_result"
    }
   ],
   "source": [
    "s_unique['X']==N_slice+1"
   ]
  },
  {
   "cell_type": "code",
   "execution_count": 49,
   "metadata": {
    "collapsed": false
   },
   "outputs": [
    {
     "name": "stdout",
     "output_type": "stream",
     "text": [
      "This is slice with number of points: [index number of points]1.0    3601\n",
      "Name: Slice, dtype: int64\n",
      "This slice x axis position is: -51.231\n",
      "\n",
      "This is slice with number of points: [index number of points]2.0    3601\n",
      "Name: Slice, dtype: int64\n",
      "This slice x axis position is: -51.73\n",
      "\n",
      "This is slice with number of points: [index number of points]3.0    3601\n",
      "Name: Slice, dtype: int64\n",
      "This slice x axis position is: -52.232\n",
      "\n",
      "This is slice with number of points: [index number of points]4.0    3601\n",
      "Name: Slice, dtype: int64\n",
      "This slice x axis position is: -52.733\n",
      "\n",
      "This is slice with number of points: [index number of points]5.0    3601\n",
      "Name: Slice, dtype: int64\n",
      "This slice x axis position is: -53.231\n",
      "\n",
      "This is slice with number of points: [index number of points]6.0    3601\n",
      "Name: Slice, dtype: int64\n",
      "This slice x axis position is: -53.731\n",
      "\n",
      "This is slice with number of points: [index number of points]7.0    3601\n",
      "Name: Slice, dtype: int64\n",
      "This slice x axis position is: -54.233\n",
      "\n",
      "This is slice with number of points: [index number of points]8.0    3601\n",
      "Name: Slice, dtype: int64\n",
      "This slice x axis position is: -54.731\n",
      "\n",
      "This is slice with number of points: [index number of points]9.0    3601\n",
      "Name: Slice, dtype: int64\n",
      "This slice x axis position is: -55.232\n",
      "\n",
      "This is slice with number of points: [index number of points]10.0    3601\n",
      "Name: Slice, dtype: int64\n",
      "This slice x axis position is: -55.73\n",
      "\n",
      "Distance between second and first slice along X is: -0.499\n"
     ]
    },
    {
     "data": {
      "text/html": [
       "<div>\n",
       "<table border=\"1\" class=\"dataframe\">\n",
       "  <thead>\n",
       "    <tr style=\"text-align: right;\">\n",
       "      <th></th>\n",
       "      <th>Slice</th>\n",
       "      <th>Line</th>\n",
       "      <th>X [mm]</th>\n",
       "      <th>Y [mm]</th>\n",
       "      <th>Z [mm]</th>\n",
       "      <th>Rotation [deg]</th>\n",
       "      <th>Bx [mT]</th>\n",
       "      <th>By [mT]</th>\n",
       "      <th>Bz [mT]</th>\n",
       "      <th>Rot. Enc [steps]</th>\n",
       "      <th>Bxy [mT]</th>\n",
       "      <th>Btot [mT]</th>\n",
       "      <th>Angle error [deg]</th>\n",
       "      <th>Direction</th>\n",
       "      <th>R [mm]</th>\n",
       "      <th>Z2 [mm]</th>\n",
       "      <th>Theta [deg]</th>\n",
       "      <th>Probe temp [°C]</th>\n",
       "      <th>degz_xyplane (deg)</th>\n",
       "    </tr>\n",
       "  </thead>\n",
       "  <tbody>\n",
       "    <tr>\n",
       "      <th>0</th>\n",
       "      <td>1.0</td>\n",
       "      <td>1.0</td>\n",
       "      <td>-51.231</td>\n",
       "      <td>0.002</td>\n",
       "      <td>-26.033</td>\n",
       "      <td>0.0</td>\n",
       "      <td>-11.279</td>\n",
       "      <td>-25.459</td>\n",
       "      <td>0.487</td>\n",
       "      <td>-180218.000</td>\n",
       "      <td>27.846</td>\n",
       "      <td>27.850</td>\n",
       "      <td>NaN</td>\n",
       "      <td>R+</td>\n",
       "      <td>51.231</td>\n",
       "      <td>-26.033</td>\n",
       "      <td>0.0</td>\n",
       "      <td>22.052</td>\n",
       "      <td>0.971092</td>\n",
       "    </tr>\n",
       "    <tr>\n",
       "      <th>1</th>\n",
       "      <td>1.0</td>\n",
       "      <td>1.0</td>\n",
       "      <td>-51.231</td>\n",
       "      <td>0.002</td>\n",
       "      <td>-26.033</td>\n",
       "      <td>0.1</td>\n",
       "      <td>-9.016</td>\n",
       "      <td>-26.329</td>\n",
       "      <td>0.832</td>\n",
       "      <td>-180222.551</td>\n",
       "      <td>27.830</td>\n",
       "      <td>27.843</td>\n",
       "      <td>NaN</td>\n",
       "      <td>R+</td>\n",
       "      <td>51.231</td>\n",
       "      <td>-26.033</td>\n",
       "      <td>0.1</td>\n",
       "      <td>22.043</td>\n",
       "      <td>1.750928</td>\n",
       "    </tr>\n",
       "    <tr>\n",
       "      <th>2</th>\n",
       "      <td>1.0</td>\n",
       "      <td>1.0</td>\n",
       "      <td>-51.231</td>\n",
       "      <td>0.002</td>\n",
       "      <td>-26.033</td>\n",
       "      <td>0.2</td>\n",
       "      <td>-6.018</td>\n",
       "      <td>-27.108</td>\n",
       "      <td>1.373</td>\n",
       "      <td>-180227.102</td>\n",
       "      <td>27.768</td>\n",
       "      <td>27.802</td>\n",
       "      <td>NaN</td>\n",
       "      <td>R+</td>\n",
       "      <td>51.231</td>\n",
       "      <td>-26.033</td>\n",
       "      <td>0.2</td>\n",
       "      <td>22.053</td>\n",
       "      <td>2.833892</td>\n",
       "    </tr>\n",
       "    <tr>\n",
       "      <th>3</th>\n",
       "      <td>1.0</td>\n",
       "      <td>1.0</td>\n",
       "      <td>-51.231</td>\n",
       "      <td>0.002</td>\n",
       "      <td>-26.033</td>\n",
       "      <td>0.3</td>\n",
       "      <td>-3.578</td>\n",
       "      <td>-27.430</td>\n",
       "      <td>1.738</td>\n",
       "      <td>-180231.652</td>\n",
       "      <td>27.662</td>\n",
       "      <td>27.716</td>\n",
       "      <td>NaN</td>\n",
       "      <td>R+</td>\n",
       "      <td>51.231</td>\n",
       "      <td>-26.033</td>\n",
       "      <td>0.3</td>\n",
       "      <td>22.058</td>\n",
       "      <td>3.577172</td>\n",
       "    </tr>\n",
       "    <tr>\n",
       "      <th>4</th>\n",
       "      <td>1.0</td>\n",
       "      <td>1.0</td>\n",
       "      <td>-51.231</td>\n",
       "      <td>0.002</td>\n",
       "      <td>-26.033</td>\n",
       "      <td>0.4</td>\n",
       "      <td>0.248</td>\n",
       "      <td>-27.573</td>\n",
       "      <td>2.347</td>\n",
       "      <td>-180236.203</td>\n",
       "      <td>27.575</td>\n",
       "      <td>27.674</td>\n",
       "      <td>NaN</td>\n",
       "      <td>R+</td>\n",
       "      <td>51.231</td>\n",
       "      <td>-26.033</td>\n",
       "      <td>0.4</td>\n",
       "      <td>22.052</td>\n",
       "      <td>4.847846</td>\n",
       "    </tr>\n",
       "  </tbody>\n",
       "</table>\n",
       "</div>"
      ],
      "text/plain": [
       "   Slice  Line  X [mm]  Y [mm]  Z [mm]  Rotation [deg]  Bx [mT]  By [mT]  \\\n",
       "0    1.0   1.0 -51.231   0.002 -26.033             0.0  -11.279  -25.459   \n",
       "1    1.0   1.0 -51.231   0.002 -26.033             0.1   -9.016  -26.329   \n",
       "2    1.0   1.0 -51.231   0.002 -26.033             0.2   -6.018  -27.108   \n",
       "3    1.0   1.0 -51.231   0.002 -26.033             0.3   -3.578  -27.430   \n",
       "4    1.0   1.0 -51.231   0.002 -26.033             0.4    0.248  -27.573   \n",
       "\n",
       "   Bz [mT]  Rot. Enc [steps]  Bxy [mT]  Btot [mT] Angle error [deg]  \\\n",
       "0    0.487       -180218.000    27.846     27.850               NaN   \n",
       "1    0.832       -180222.551    27.830     27.843               NaN   \n",
       "2    1.373       -180227.102    27.768     27.802               NaN   \n",
       "3    1.738       -180231.652    27.662     27.716               NaN   \n",
       "4    2.347       -180236.203    27.575     27.674               NaN   \n",
       "\n",
       "          Direction  R [mm]  Z2 [mm]  Theta [deg]  Probe temp [°C]  \\\n",
       "0                R+  51.231  -26.033          0.0           22.052   \n",
       "1                R+  51.231  -26.033          0.1           22.043   \n",
       "2                R+  51.231  -26.033          0.2           22.053   \n",
       "3                R+  51.231  -26.033          0.3           22.058   \n",
       "4                R+  51.231  -26.033          0.4           22.052   \n",
       "\n",
       "   degz_xyplane (deg)  \n",
       "0            0.971092  \n",
       "1            1.750928  \n",
       "2            2.833892  \n",
       "3            3.577172  \n",
       "4            4.847846  "
      ]
     },
     "execution_count": 49,
     "metadata": {},
     "output_type": "execute_result"
    }
   ],
   "source": [
    "#create dataframe list for multiple slices\n",
    "dataslices_df_list=[]\n",
    "for i in np.arange(0,N_slice,1):\n",
    "    dataslices_df_list.append(data.iloc[i*int(len(data)/N_slice):(i+1)*int(len(data)/N_slice)].copy(deep=False).reset_index(drop=True))\n",
    "    print('This is slice with number of points: [index number of points]'+str(dataslices_df_list[i]['Slice'].value_counts()))\n",
    "    if s_unique['X']==N_slice:\n",
    "        print('This slice x axis position is: '+str(format(dataslices_df_list[i]['X [mm]'].values[0],'.5g'))+'\\n')\n",
    "    elif s_unique['Y']==N_slice:\n",
    "        print('This slice y axis position is: '+str(format(dataslices_df_list[i]['Y [mm]'].values[0],'.5g'))+'\\n')\n",
    "    elif s_unique['Z']==N_slice:\n",
    "        print('This slice z axis position is: '+str(format(dataslices_df_list[i]['Z [mm]'].values[0],'.5g'))+'\\n')\n",
    "    else:\n",
    "        print('This slice R axis position is: '+str(format(dataslices_df_list[i]['Rotation [deg]'].values[0],'.5g'))+'\\n')\n",
    "\n",
    "if N_slice>1:\n",
    "    if s_unique['X']==N_slice or s_unique['X']==N_slice+1 or s_unique['X']==N_slice-1:\n",
    "        print('Distance between second and first slice along X is: '+\n",
    "        str(format(dataslices_df_list[1]['X [mm]'].values[0]-dataslices_df_list[0]['X [mm]'].values[0],'.5g')))\n",
    "    elif s_unique['Y']==N_slice:\n",
    "        print('Distance between second and first slice along Y is: '+\n",
    "        str(format(dataslices_df_list[1]['Y [mm]'].values[0]-dataslices_df_list[0]['Y [mm]'].values[0],'.5g')))\n",
    "    elif s_unique['Z']==N_slice:\n",
    "        print('Distance between second and first slice along Z is: '+\n",
    "        str(format(dataslices_df_list[1]['Z [mm]'].values[0]-dataslices_df_list[0]['Z [mm]'].values[0],'.5g')))\n",
    "    else:\n",
    "        print('Distance between second and first slice along R is: '+\n",
    "        str(format(dataslices_df_list[1]['Rotation [deg]'].values[0]-dataslices_df_list[0]['Rotation [deg]'].values[0],'.5g')))    \n",
    "\n",
    "dataslices_df_list[0].head()\n",
    "        \n",
    "# wired to have two same columns when just ask to return one \n",
    "#data['Z [mm]'].values[0][0]"
   ]
  },
  {
   "cell_type": "code",
   "execution_count": 50,
   "metadata": {
    "collapsed": false
   },
   "outputs": [
    {
     "name": "stderr",
     "output_type": "stream",
     "text": [
      "C:\\Users\\zxu\\AppData\\Local\\Continuum\\Anaconda3\\lib\\site-packages\\matplotlib\\pyplot.py:516: RuntimeWarning: More than 20 figures have been opened. Figures created through the pyplot interface (`matplotlib.pyplot.figure`) are retained until explicitly closed and may consume too much memory. (To control this warning, see the rcParam `figure.max_open_warning`).\n",
      "  max_open_warning, RuntimeWarning)\n"
     ]
    },
    {
     "name": "stdout",
     "output_type": "stream",
     "text": [
      "slice 1x~-51.231 mm Bxmax~27.9(mT) Bxmin~-29.6(mT) P2P(Bx)~57.5(mT)\n",
      "slice 2x~-51.73 mm Bxmax~15(mT) Bxmin~-16(mT) P2P(Bx)~31(mT)\n",
      "slice 3x~-52.232 mm Bxmax~7.98(mT) Bxmin~-8.55(mT) P2P(Bx)~16.5(mT)\n",
      "slice 4x~-52.733 mm Bxmax~4.31(mT) Bxmin~-4.59(mT) P2P(Bx)~8.9(mT)\n",
      "slice 5x~-53.231 mm Bxmax~2.39(mT) Bxmin~-2.5(mT) P2P(Bx)~4.89(mT)\n",
      "slice 6x~-53.731 mm Bxmax~1.37(mT) Bxmin~-1.39(mT) P2P(Bx)~2.76(mT)\n",
      "slice 7x~-54.233 mm Bxmax~0.827(mT) Bxmin~-0.779(mT) P2P(Bx)~1.61(mT)\n",
      "slice 8x~-54.731 mm Bxmax~0.529(mT) Bxmin~-0.457(mT) P2P(Bx)~0.986(mT)\n",
      "slice 9x~-55.232 mm Bxmax~0.378(mT) Bxmin~-0.292(mT) P2P(Bx)~0.67(mT)\n",
      "slice 10x~-55.73 mm Bxmax~0.288(mT) Bxmin~-0.188(mT) P2P(Bx)~0.476(mT)\n"
     ]
    }
   ],
   "source": [
    "#export slices image with same data name but different z axis number and columns you want to export\n",
    "figfolder = 'Allegro_fig/' \n",
    "for i in np.arange(0,N_slice,1):\n",
    "    plt.figure(figsize=(15,15))\n",
    "    font = {'family' : 'normal',\n",
    "        'weight' : 'bold',\n",
    "        'size'   : 22}\n",
    "    plt.rc('font', **font)\n",
    "    lines = plt.plot(dataslices_df_list[i]['Rotation [deg]'],dataslices_df_list[i]['Bx [mT]'],'--',\n",
    "         dataslices_df_list[i]['Rotation [deg]'],dataslices_df_list[i]['By [mT]'],'-.',\n",
    "         dataslices_df_list[i]['Rotation [deg]'],dataslices_df_list[i]['Bz [mT]'],'-',label='slice '+str(i))\n",
    "    plt.ylabel('Magnetic Field[mT]')\n",
    "    plt.xlabel('Rotation (deg)')\n",
    "    plt.setp(lines, linewidth=5)\n",
    "    plt.legend(['Bx','By','Bz'],loc='best')\n",
    "    # Title for Bz e.g. Boston Dynamics\n",
    "    #title='slice '+str(i+1)+'z~'+str(format(dataslices_df_list[i]['Z [mm]'].values[0],'.5g')+' mm')+\\\n",
    "    #' Bzmax~'+str(format(max(dataslices_df_list[i]['Bz [mT]']),'.3g'))+\\\n",
    "    #                      '(mT) Bzmin~'+str(format(min(dataslices_df_list[i]['Bz [mT]']),'.3g'))+'(mT)'+\\\n",
    "    #   ' Sum(Bz)~'+ str(format(sum(dataslices_df_list[i]['Bz [mT]']),'.3g'))\n",
    "    #plt.text(0,130,filename+' Sum(Bz):' +str(format(sum(dataslices_df_list[i]['Bz [mT]']),'.3g'))+'(mT)')\n",
    "    \n",
    "    title='slice '+str(i+1)+'x~'+str(format(dataslices_df_list[i]['X [mm]'].values[0],'.5g')+' mm')+\\\n",
    "    ' Bxmax~'+str(format(max(dataslices_df_list[i]['Bx [mT]']),'.3g'))+\\\n",
    "                          '(mT) Bxmin~'+str(format(min(dataslices_df_list[i]['Bx [mT]']),'.3g'))+'(mT)'+\\\n",
    "       ' P2P(Bx)~'+ str(format(max(dataslices_df_list[i]['Bx [mT]'])-min(dataslices_df_list[i]['Bx [mT]']),'.3g'))+'(mT)'\n",
    "    \n",
    "    print(title)\n",
    "    plt.title(title)\n",
    "    plt.savefig(figfolder+filename+title+'.png')\n",
    "\n"
   ]
  },
  {
   "cell_type": "code",
   "execution_count": null,
   "metadata": {
    "collapsed": true
   },
   "outputs": [],
   "source": [
    "#                      Stop               #\n",
    "#export merged multiple slices image with same data name but different z axis number and columns export BxByBz same slice\n",
    "for i in np.arange(0,N_slice,1):\n",
    "    plt.figure(figsize=(15,15))\n",
    "    font = {'family' : 'normal',\n",
    "        'weight' : 'bold',\n",
    "        'size'   : 22}\n",
    "    plt.rc('font', **font)\n",
    "    lines = plt.plot(dataslices_df_list[i]['Rotation [deg]'],dataslices_df_list[i]['Bx [mT]'],'--',\n",
    "         dataslices_df_list[i]['Rotation [deg]'],dataslices_df_list[i]['By [mT]'],'-.',\n",
    "         dataslices_df_list[i]['Rotation [deg]'],dataslices_df_list[i]['Bz [mT]'],'-',label='slice '+str(i))\n",
    "    plt.ylabel('Magnetic Field[mT]')\n",
    "    plt.xlabel('Rotation (deg)')\n",
    "    plt.setp(lines, linewidth=5)\n",
    "    plt.legend(['Bx','By','Bz'],loc='best')\n",
    "    title = 'slice '+str(i+1)+' with z axis position '+str(format(dataslices_df_list[i]['Z [mm]'].values[0][0],'.5g')+' mm')\n",
    "    plt.title(title)\n",
    "    plt.savefig('figure/'+filename+title+'.png')\n",
    "\n",
    "#export merged multiple slices image with same data name but different z axis number and columns export BxByBz same slice\n",
    "from itertools import cycle\n",
    "plt.figure(figsize=(15,15))\n",
    "font = {'family' : 'normal',\n",
    "    'weight' : 'bold',\n",
    "    'size'   : 22}\n",
    "plt.rc('font', **font)\n",
    "lines = [\"-\",\"--\",\"-.\",\":\"]\n",
    "linecycler = cycle(lines)\n",
    "for i in np.arange(0,N_slice,1):\n",
    "    line=plt.plot(dataslices_df_list[i]['Rotation [deg]'],dataslices_df_list[i]['Bx [mT]'],next(linecycler))\n",
    "    \n",
    "\n",
    "\n",
    "    plt.ylabel('Magnetic Field Bx[mT]')\n",
    "    plt.xlabel('Rotation (deg)')\n",
    "    plt.setp(line, linewidth=5)\n",
    "    plt.legend('slice '+str(i+1),loc='best')\n",
    "    #title = 'slice '+str(i+1)+' with z axis position '+str(format(dataslices_df_list[i]['Z [mm]'].values[0][0],'.5g')+' mm')\n",
    "    #plt.title(title)\n",
    "    #plt.savefig('figure/'+filename+title+'.png')\n",
    "plt.show()"
   ]
  },
  {
   "cell_type": "code",
   "execution_count": 151,
   "metadata": {
    "collapsed": false
   },
   "outputs": [
    {
     "data": {
      "text/plain": [
       "<matplotlib.text.Text at 0x1567a0f0>"
      ]
     },
     "execution_count": 151,
     "metadata": {},
     "output_type": "execute_result"
    },
    {
     "data": {
      "image/png": "[encoded data removed]",
      "text/plain": [
       "<matplotlib.figure.Figure at 0x15635198>"
      ]
     },
     "metadata": {},
     "output_type": "display_data"
    }
   ],
   "source": [
    "plt.plot(data_slice1_df['Rotation [deg]'],data_slice1_df['degz_xyplane (deg)'],'--',\n",
    "         data_slice2_df['Rotation [deg]'],data_slice2_df['degz_xyplane (deg)'],'-.',\n",
    "         data_slice3_df['Rotation [deg]'],data_slice3_df['degz_xyplane (deg)'],'-',label='line 1')\n",
    "plt.ylabel('Tilt Angle (deg)')\n",
    "plt.xlabel('Rotation (deg)')\n",
    "plt.legend(['Slice1','Slice2','Slice3'],loc='best')\n",
    "plt.text(10, 10,'slice1: '+str(format(data_slice1_df['degz_xyplane (deg)'][0],'.3g'))+' deg')\n",
    "plt.text(10, 2,'slice2: '+str(format(data_slice2_df['degz_xyplane (deg)'][0],'.3g'))+' deg')\n",
    "plt.text(10, 20,'slice3: '+str(format(data_slice3_df['degz_xyplane (deg)'][0],'.3g'))+' deg')\n",
    "\n",
    "plt.text(150, 10,'slice1: '+str(format(data_slice1_df['degz_xyplane (deg)'][int(len(data)/3)-1],'.3g'))+' deg')\n",
    "plt.text(150, 2,'slice2: '+str(format(data_slice2_df['degz_xyplane (deg)'][int(len(data)/3)-1],'.3g'))+' deg')\n",
    "plt.text(150, 20,'slice3: '+str(format(data_slice3_df['degz_xyplane (deg)'][int(len(data)/3)-1],'.3g'))+' deg')\n",
    "\n"
   ]
  },
  {
   "cell_type": "code",
   "execution_count": 58,
   "metadata": {
    "collapsed": false
   },
   "outputs": [
    {
     "data": {
      "text/plain": [
       "<matplotlib.text.Text at 0xd6feeb8>"
      ]
     },
     "execution_count": 58,
     "metadata": {},
     "output_type": "execute_result"
    },
    {
     "data": {
      "image/png": "[encoded data removed]",
      "text/plain": [
       "<matplotlib.figure.Figure at 0x8ef8b38>"
      ]
     },
     "metadata": {},
     "output_type": "display_data"
    }
   ],
   "source": [
    "plt.plot(data_slice1_df['Rotation [deg]'],data_slice1_df['Bx [mT]'],'--',\n",
    "         data_slice1_df['Rotation [deg]'],data_slice1_df['By [mT]'],'-.',\n",
    "         data_slice1_df['Rotation [deg]'],data_slice1_df['Bz [mT]'],'-',label='line 1')\n",
    "plt.legend(['Bx','By','Bz'])\n",
    "plt.title(\"slice1\")"
   ]
  },
  {
   "cell_type": "code",
   "execution_count": 59,
   "metadata": {
    "collapsed": false
   },
   "outputs": [
    {
     "data": {
      "text/plain": [
       "<matplotlib.text.Text at 0xedca5c0>"
      ]
     },
     "execution_count": 59,
     "metadata": {},
     "output_type": "execute_result"
    },
    {
     "data": {
      "image/png": "[encoded data removed]",
      "text/plain": [
       "<matplotlib.figure.Figure at 0xd6b5fd0>"
      ]
     },
     "metadata": {},
     "output_type": "display_data"
    }
   ],
   "source": [
    "plt.plot(data_slice2_df['Rotation [deg]'],data_slice2_df['Bx [mT]'],'--',\n",
    "         data_slice2_df['Rotation [deg]'],data_slice2_df['By [mT]'],'-.',\n",
    "         data_slice2_df['Rotation [deg]'],data_slice2_df['Bz [mT]'],'-',label='line 1')\n",
    "plt.legend(['Bx','By','Bz'])\n",
    "plt.title(\"slice2\")"
   ]
  },
  {
   "cell_type": "code",
   "execution_count": 60,
   "metadata": {
    "collapsed": false
   },
   "outputs": [
    {
     "data": {
      "text/plain": [
       "<matplotlib.text.Text at 0xee46588>"
      ]
     },
     "execution_count": 60,
     "metadata": {},
     "output_type": "execute_result"
    },
    {
     "data": {
      "image/png": "[encoded data removed]",
      "text/plain": [
       "<matplotlib.figure.Figure at 0xedc6780>"
      ]
     },
     "metadata": {},
     "output_type": "display_data"
    }
   ],
   "source": [
    "plt.plot(data_slice3_df['Rotation [deg]'],data_slice3_df['Bx [mT]'],'--',\n",
    "         data_slice3_df['Rotation [deg]'],data_slice3_df['By [mT]'],'-.',\n",
    "         data_slice3_df['Rotation [deg]'],data_slice3_df['Bz [mT]'],'-',label='line 1')\n",
    "plt.legend(['Bx','By','Bz'])\n",
    "plt.title(\"slice3\")"
   ]
  },
  {
   "cell_type": "code",
   "execution_count": null,
   "metadata": {
    "collapsed": true
   },
   "outputs": [],
   "source": []
  }
 ],
 "metadata": {
  "kernelspec": {
   "display_name": "Python 3",
   "language": "python",
   "name": "python3"
  },
  "language_info": {
   "codemirror_mode": {
    "name": "ipython",
    "version": 3
   },
   "file_extension": ".py",
   "mimetype": "text/x-python",
   "name": "python",
   "nbconvert_exporter": "python",
   "pygments_lexer": "ipython3",
   "version": "3.5.1"
  }
 },
 "nbformat": 4,
 "nbformat_minor": 0
}
