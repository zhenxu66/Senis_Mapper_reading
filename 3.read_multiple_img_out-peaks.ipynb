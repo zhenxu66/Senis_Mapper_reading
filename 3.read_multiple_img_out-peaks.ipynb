{
 "cells": [
  {
   "cell_type": "code",
   "execution_count": 1,
   "metadata": {
    "collapsed": false
   },
   "outputs": [],
   "source": [
    "import pandas as pd\n",
    "import numpy as np\n",
    "import peakutils\n",
    "import scipy.fftpack\n",
    "import matplotlib.pyplot as plt\n",
    "#%matplotlib inline\n",
    "#import mpld3\n",
    "#mpld3.enable_notebook()\n",
    "#import glob\n",
    "#print(glob.glob(\"txt/*.txt\"))\n",
    "from os import listdir\n",
    "from os.path import isfile, join\n",
    "files = [f for f in listdir(\"txt\") if isfile(join(\"txt\", f))]"
   ]
  },
  {
   "cell_type": "code",
   "execution_count": 2,
   "metadata": {
    "collapsed": false
   },
   "outputs": [],
   "source": [
    "def fft_fig_out(filename,peak_thres):\n",
    "    print('Generate graph for '+filename)\n",
    "    data = pd.read_csv('txt/'+filename, sep=\"\\t\", header=None)\n",
    "    #len_input = int(input(\"How many points you want to plot\"))\n",
    "    len_input = 30000\n",
    "    data_2=data.iloc[2:len_input+2,[1,2,3]].copy(deep=False).reset_index(drop=True).apply(pd.to_numeric)\n",
    "    #By is object\n",
    "    data_2.columns = [\"Bx\", \"By\", \"Bz\"]\n",
    "    #print(data_2.head())\n",
    "    data2_len = len(data_2)\n",
    "    #print('\\nThis test has points of:'+ str(data2_len) )\n",
    "    x_values =  np.linspace(0,data2_len*0.00002,data2_len,endpoint=False)\n",
    "    fig, axarr = plt.subplots(3,2, sharex='col',figsize=(12,10))\n",
    "    #fig.tight_layout()\n",
    "    #fig.tight_layout(pad=1.5, h_pad=1.2, w_pad=1.2, rect=None)\n",
    "    plt.subplots_adjust(hspace = 0.3,wspace = 0.4)\n",
    "    axarr[0,0].scatter(x_values,data_2['Bx'],s=10, c='red')\n",
    "    axarr[0,0].set(ylabel='Magnetic Field (mT)',xlabel='Time (s)')\n",
    "    axarr[0,0].legend(loc='best')\n",
    "    axarr[1,0].scatter(x_values,data_2['By'],s=10, c='red')\n",
    "    axarr[1,0].set(ylabel='Magnetic Field (mT)',xlabel='Time (s)')\n",
    "    axarr[1,0].legend(loc='best')\n",
    "    axarr[2,0].scatter(x_values,data_2['Bz'],s=10, c='red')\n",
    "    axarr[2,0].set(ylabel='Magnetic Field (mT)',xlabel='Time (s)')\n",
    "    axarr[2,0].legend(loc='best')\n",
    "    f = np.linspace(0.0, 1.0/(2.0*1/50000), data2_len/2)\n",
    "    \n",
    "\n",
    "    Bxfft=2.0/data2_len * np.abs(scipy.fftpack.fft(data_2['Bx'])[:data2_len//2])\n",
    "    axarr[0,1].plot(f, Bxfft,'rs-')\n",
    "    axarr[0,1].set_xlim(0,360)\n",
    "    axarr[0,1].xaxis.set(ticks=[0,60,120,180,240,300,360],ticklabels=[0,60,120,180,240,300,360])\n",
    "    axarr[0,1].set(ylabel='Magnetic Field (mT)',xlabel='Frequency (Hz)')\n",
    "    axarr[0,1].set_title('Bx FFT')\n",
    "    axarr[0,1].grid()\n",
    "    ymax_Bxfft = max(Bxfft)\n",
    "    Bxfft_peaks_indices=peakutils.indexes(Bxfft, thres=peak_thres, min_dist=10)[0:2]\n",
    "    #print(Bxfft_peaks_indices)\n",
    "    Bxfft_peaks_indices=[36,108] # for len_input = 30000\n",
    "    #print(f[Bxfft_peaks_indices])\n",
    "    #print(Bxfft[Bxfft_peaks_indices])\n",
    "    xpos_Bxfft = Bxfft.tolist().index(ymax_Bxfft)\n",
    "    #xpos_Bxfft = Bxfft.argmax(ymax_Bxfft)\n",
    "    xmax_Bxfft = f[xpos_Bxfft]\n",
    "    #axarr[0,1].text(220, 0.02,str(format(xmax_Bxfft,'.3g'))+'Hz Bx:'+str(format(ymax_Bxfft,'.3g'))+'mT',verticalalignment='bottom', \n",
    "    #            horizontalalignment='right',)\n",
    "            \n",
    "\n",
    "\n",
    "    Byfft=2.0/data2_len * np.abs(scipy.fftpack.fft(data_2['By'])[:data2_len//2])\n",
    "    axarr[1,1].plot(f, Byfft,'go-')\n",
    "    axarr[1,1].set(ylabel='Magnetic Field (mT)',xlabel='Frequency (Hz)')\n",
    "    axarr[1,1].set_title('By FFT')\n",
    "    axarr[1,1].grid()\n",
    "    Byfft_peaks_indices=peakutils.indexes(Byfft, thres=peak_thres, min_dist=10)[0:2]\n",
    "    #print(Byfft_peaks_indices)\n",
    "    #print(f[Byfft_peaks_indices])\n",
    "    #print(Byfft[Byfft_peaks_indices])\n",
    "    ymax_Byfft = max(Byfft)\n",
    "    xpos_Byfft = Byfft.tolist().index(ymax_Byfft)\n",
    "    xmax_Byfft = f[xpos_Byfft]\n",
    "    #axarr[1,1].text(220, 0.8,str(format(xmax_Byfft,'.3g'))+'Hz By:'+str(format(ymax_Byfft,'.3g'))+'mT',verticalalignment='bottom', \n",
    "    #            horizontalalignment='right',)\n",
    "   \n",
    "\n",
    "\n",
    "    Bzfft=2.0/data2_len * np.abs(scipy.fftpack.fft(data_2['Bz'])[:data2_len//2])\n",
    "    axarr[2,1].plot(f,Bzfft,'bp-')\n",
    "    axarr[2,1].set_title('Bz FFT')\n",
    "    axarr[2,1].set(ylabel='Magnetic Field (mT)',xlabel='Frequency (Hz)')\n",
    "    axarr[2,1].grid()\n",
    "    Bzfft_peaks_indices=peakutils.indexes(Bzfft, thres=peak_thres, min_dist=10)[0:2]\n",
    "    #print(Bzfft_peaks_indices)\n",
    "    #use Bx indices with same frequency\n",
    "    #print(f[Bxfft_peaks_indices])\n",
    "    #print(Bzfft[Bxfft_peaks_indices])\n",
    "    #print(Bzfft[Bxfft_peaks_indices][1])\n",
    "    #print(str(format(f[Bxfft_peaks_indices][1],'.3g'))+' Hz:'+str(format(Bzfft[Bxfft_peaks_indices][1],'.3g'))+'mT')\n",
    "    ymax_Bzfft = max(Bzfft)\n",
    "    xpos_Bzfft = Bzfft.tolist().index(ymax_Bzfft)\n",
    "    xmax_Bzfft = f[xpos_Bzfft]\n",
    "    \n",
    "    #axarr[2,1].text(220, 0.015,str(format(xmax_Bzfft,'.3g'))+'Hz By:'+str(format(ymax_Bzfft,'.3g'))+'mT',verticalalignment='bottom', \n",
    "    #            horizontalalignment='right',)\n",
    "\n",
    "    fig.suptitle('Bx '+str(format(f[Bxfft_peaks_indices][0],'.3g'))+' Hz:'+str(format(Bxfft[Bxfft_peaks_indices][0],'.3g'))+'mT    '\n",
    "                 +str(format(f[Bxfft_peaks_indices][1],'.3g'))+' Hz:'+str(format(Bxfft[Bxfft_peaks_indices][1],'.3g'))+'mT'\n",
    "                 +'\\n'\n",
    "                 +'By '+str(format(f[Bxfft_peaks_indices][0],'.3g'))+' Hz:'+str(format(Byfft[Bxfft_peaks_indices][0],'.3g'))+'mT    '\n",
    "                 +str(format(f[Bxfft_peaks_indices][1],'.3g'))+' Hz:'+str(format(Byfft[Bxfft_peaks_indices][1],'.3g'))+'mT'\n",
    "                 +'\\n'\n",
    "                 'Bz '+str(format(f[Bxfft_peaks_indices][0],'.3g'))+' Hz:'+str(format(Bzfft[Bxfft_peaks_indices][0],'.3g'))+'mT    '\n",
    "                 +str(format(f[Bxfft_peaks_indices][1],'.3g'))+' Hz:'+str(format(Bzfft[Bxfft_peaks_indices][1],'.3g'))+'mT',\n",
    "                 fontsize=14, fontweight='bold')\n",
    "\n",
    "    fig.savefig('figure/'+filename+'.png')\n",
    "    \n",
    "    result_df=pd.DataFrame({\"180Hz (mT)\":[format(Bxfft[Bxfft_peaks_indices][1],'.3g'),format(Byfft[Byfft_peaks_indices][1],'.3g'),format(Bzfft[Bxfft_peaks_indices][1],'.3g')],\n",
    "                           \"60Hz (mT)\":[format(Bxfft[Bxfft_peaks_indices][0],'.3g'),format(Byfft[Byfft_peaks_indices][0],'.3g'),format(Bzfft[Bxfft_peaks_indices][0],'.3g')]},\n",
    "                           index=[filename[0:6]+'Bx',filename[0:6]+'By',filename[0:6]+'Bz'])\n",
    "    #print(result_df)\n",
    "    return result_df"
   ]
  },
  {
   "cell_type": "code",
   "execution_count": 3,
   "metadata": {
    "collapsed": false
   },
   "outputs": [
    {
     "name": "stdout",
     "output_type": "stream",
     "text": [
      "Generate graph for 30 mm AC Measurements_1-12-2018_11-14-40 PM.txt\n"
     ]
    },
    {
     "data": {
      "text/html": [
       "<div>\n",
       "<table border=\"1\" class=\"dataframe\">\n",
       "  <thead>\n",
       "    <tr style=\"text-align: right;\">\n",
       "      <th></th>\n",
       "      <th>180Hz (mT)</th>\n",
       "      <th>60Hz (mT)</th>\n",
       "    </tr>\n",
       "  </thead>\n",
       "  <tbody>\n",
       "    <tr>\n",
       "      <th>30 mm Bx</th>\n",
       "      <td>0.078</td>\n",
       "      <td>0.223</td>\n",
       "    </tr>\n",
       "    <tr>\n",
       "      <th>30 mm By</th>\n",
       "      <td>0.0209</td>\n",
       "      <td>0.0543</td>\n",
       "    </tr>\n",
       "    <tr>\n",
       "      <th>30 mm Bz</th>\n",
       "      <td>0.022</td>\n",
       "      <td>0.0584</td>\n",
       "    </tr>\n",
       "  </tbody>\n",
       "</table>\n",
       "</div>"
      ],
      "text/plain": [
       "         180Hz (mT) 60Hz (mT)\n",
       "30 mm Bx      0.078     0.223\n",
       "30 mm By     0.0209    0.0543\n",
       "30 mm Bz      0.022    0.0584"
      ]
     },
     "execution_count": 3,
     "metadata": {},
     "output_type": "execute_result"
    }
   ],
   "source": [
    "fft_fig_out('30 mm AC Measurements_1-12-2018_11-14-40 PM.txt',0.1)\n",
    "#y 12 mm AC Measurements_1-12-2018_11-39-41 PM\n",
    "#0_AC Measurements_1-12-2018_10-35-59 PM\n",
    "#24 mm AC Measurements_1-12-2018_11-13-16 PM not working"
   ]
  },
  {
   "cell_type": "code",
   "execution_count": 4,
   "metadata": {
    "collapsed": false
   },
   "outputs": [
    {
     "name": "stdout",
     "output_type": "stream",
     "text": [
      "Generate graph for 24 mm AC Measurements_1-12-2018_11-13-16 PM.txt\n",
      "         180Hz (mT) 60Hz (mT)\n",
      "24 mm Bx     0.0781     0.228\n",
      "24 mm By     0.0224    0.0608\n",
      "24 mm Bz     0.0191    0.0403\n"
     ]
    }
   ],
   "source": [
    "df_empty = pd.DataFrame({'180Hz (mT)' : [],'60Hz (mT)' : []})\n",
    "df_combine=pd.concat([df_empty,fft_fig_out('24 mm AC Measurements_1-12-2018_11-13-16 PM.txt',0.1)])\n",
    "print(df_combine)"
   ]
  },
  {
   "cell_type": "code",
   "execution_count": 5,
   "metadata": {
    "collapsed": false
   },
   "outputs": [
    {
     "name": "stdout",
     "output_type": "stream",
     "text": [
      "Generate graph for 0_AC Measurements_1-12-2018_10-35-59 PM.txt\n",
      "Generate graph for 10 mm AC Measurements_1-12-2018_10-40-49 PM.txt\n",
      "Generate graph for 12mm AC Measurements_1-12-2018_10-47-54 PM.txt\n",
      "Generate graph for 14 mm AC Measurements_1-12-2018_10-48-44 PM.txt\n",
      "Generate graph for 16 mm AC Measurements_1-12-2018_10-49-27 PM.txt\n",
      "Generate graph for 18 mm AC Measurements_1-12-2018_10-49-55 PM.txt\n",
      "Generate graph for 20 mm AC Measurements_1-12-2018_11-12-22 PM.txt\n",
      "Generate graph for 22 mm AC Measurements_1-12-2018_11-12-51 PM.txt\n",
      "Generate graph for 24 mm AC Measurements_1-12-2018_11-13-16 PM.txt\n",
      "Generate graph for 26 mm AC Measurements_1-12-2018_11-13-35 PM.txt\n",
      "Generate graph for 28 mm AC Measurements_1-12-2018_11-14-13 PM.txt\n",
      "Generate graph for 2mm_AC Measurements_1-12-2018_10-37-19 PM.txt\n",
      "Generate graph for 30 mm AC Measurements_1-12-2018_11-14-40 PM.txt\n",
      "Generate graph for 32 mm AC Measurements_1-12-2018_11-15-02 PM.txt\n",
      "Generate graph for 34 mm AC Measurements_1-12-2018_11-15-19 PM.txt\n",
      "Generate graph for 36 mm AC Measurements_1-12-2018_11-15-40 PM.txt\n",
      "Generate graph for 38 mm AC Measurements_1-12-2018_11-16-01 PM.txt\n",
      "Generate graph for 40 mm AC Measurements_1-12-2018_11-16-19 PM.txt\n",
      "Generate graph for 42 mm AC Measurements_1-12-2018_11-16-49 PM.txt\n"
     ]
    },
    {
     "name": "stderr",
     "output_type": "stream",
     "text": [
      "C:\\Users\\zxu\\AppData\\Local\\Continuum\\Anaconda3\\lib\\site-packages\\matplotlib\\pyplot.py:516: RuntimeWarning: More than 20 figures have been opened. Figures created through the pyplot interface (`matplotlib.pyplot.figure`) are retained until explicitly closed and may consume too much memory. (To control this warning, see the rcParam `figure.max_open_warning`).\n",
      "  max_open_warning, RuntimeWarning)\n"
     ]
    },
    {
     "name": "stdout",
     "output_type": "stream",
     "text": [
      "Generate graph for 44 mm AC Measurements_1-12-2018_11-17-12 PM.txt\n",
      "Generate graph for 46 mm AC Measurements_1-12-2018_11-17-45 PM.txt\n",
      "Generate graph for 48 mm AC Measurements_1-12-2018_11-18-04 PM.txt\n",
      "Generate graph for 4mm_AC Measurements_1-12-2018_10-37-53 PM.txt\n",
      "Generate graph for 50 mm AC Measurements_1-12-2018_11-18-28 PM.txt\n",
      "Generate graph for 52 mm AC Measurements_1-12-2018_11-28-23 PM.txt\n",
      "Generate graph for 54 mm AC Measurements_1-12-2018_11-28-51 PM.txt\n",
      "Generate graph for 6mm_AC Measurements_1-12-2018_10-39-52 PM.txt\n",
      "Generate graph for 8mm AC Measurements_1-12-2018_10-40-22 PM.txt\n",
      "Generate graph for y 10mm AC Measurements_1-12-2018_11-38-23 PM.txt\n",
      "Generate graph for y 12 mm AC Measurements_1-12-2018_11-39-41 PM.txt\n",
      "Generate graph for y 2mm AC Measurements_1-12-2018_11-35-56 PM.txt\n",
      "Generate graph for y 4mm AC Measurements_1-12-2018_11-36-42 PM.txt\n",
      "Generate graph for y 6mm AC Measurements_1-12-2018_11-37-17 PM.txt\n",
      "Generate graph for y 8mm AC Measurements_1-12-2018_11-37-45 PM.txt\n"
     ]
    }
   ],
   "source": [
    "df_combine = pd.DataFrame({'180Hz (mT)' : [],'60Hz (mT)' : []})\n",
    "for file in files:\n",
    "    df_combine=pd.concat([df_combine,fft_fig_out(file,0.1)])\n",
    "    \n",
    "df_combine.to_csv('all_harmonics.csv', sep=',', encoding='utf-8', index=True)"
   ]
  },
  {
   "cell_type": "code",
   "execution_count": null,
   "metadata": {
    "collapsed": true
   },
   "outputs": [],
   "source": []
  }
 ],
 "metadata": {
  "kernelspec": {
   "display_name": "Python 3",
   "language": "python",
   "name": "python3"
  },
  "language_info": {
   "codemirror_mode": {
    "name": "ipython",
    "version": 3
   },
   "file_extension": ".py",
   "mimetype": "text/x-python",
   "name": "python",
   "nbconvert_exporter": "python",
   "pygments_lexer": "ipython3",
   "version": "3.5.1"
  }
 },
 "nbformat": 4,
 "nbformat_minor": 0
}
