{
 "cells": [
  {
   "cell_type": "code",
   "execution_count": 1,
   "metadata": {
    "collapsed": true
   },
   "outputs": [],
   "source": [
    "import pandas as pd\n",
    "import numpy as np\n",
    "import scipy.fftpack\n",
    "import matplotlib.pyplot as plt\n",
    "#%matplotlib inline\n",
    "#import mpld3\n",
    "#mpld3.enable_notebook()"
   ]
  },
  {
   "cell_type": "code",
   "execution_count": 2,
   "metadata": {
    "collapsed": true
   },
   "outputs": [],
   "source": [
    "def fft_fig_out(filename):\n",
    "    print('Generate graph for '+filename)\n",
    "    data = pd.read_csv('txt/'+filename, sep=\"\\t\", header=None)\n",
    "    #len_input = int(input(\"How many points you want to plot\"))\n",
    "    len_input = 20000\n",
    "    data_2=data.iloc[2:len_input+2,[1,2,3]].copy(deep=False).reset_index(drop=True).apply(pd.to_numeric)\n",
    "    #By is object\n",
    "    data_2.columns = [\"Bx\", \"By\", \"Bz\"]\n",
    "    #print(data_2.head())\n",
    "    data2_len = len(data_2)\n",
    "    #print('\\nThis test has points of:'+ str(data2_len) )\n",
    "    x_values =  np.linspace(0,data2_len*0.00002,data2_len,endpoint=False)\n",
    "    fig, axarr = plt.subplots(3,2, sharex='col',figsize=(12,10))\n",
    "    #fig.tight_layout()\n",
    "    #fig.tight_layout(pad=1.5, h_pad=1.2, w_pad=1.2, rect=None)\n",
    "    plt.subplots_adjust(hspace = 0.3,wspace = 0.4)\n",
    "    axarr[0,0].scatter(x_values,data_2['Bx'],s=10, c='red')\n",
    "    axarr[0,0].set(ylabel='Magnetic Field (mT)',xlabel='Time (s)')\n",
    "    axarr[0,0].legend(loc='best')\n",
    "    axarr[1,0].scatter(x_values,data_2['By'],s=10, c='red')\n",
    "    axarr[1,0].set(ylabel='Magnetic Field (mT)',xlabel='Time (s)')\n",
    "    axarr[1,0].legend(loc='best')\n",
    "    axarr[2,0].scatter(x_values,data_2['Bz'],s=10, c='red')\n",
    "    axarr[2,0].set(ylabel='Magnetic Field (mT)',xlabel='Time (s)')\n",
    "    axarr[2,0].legend(loc='best')\n",
    "    f = np.linspace(0.0, 1.0/(2.0*1/50000), data2_len/2)\n",
    "\n",
    "    Bxfft=2.0/data2_len * np.abs(scipy.fftpack.fft(data_2['Bx'])[:data2_len//2])\n",
    "    axarr[0,1].plot(f, Bxfft)\n",
    "    axarr[0,1].set_xlim(0,360)\n",
    "    axarr[0,1].xaxis.set(ticks=[0,60,120,180,240,300,360],ticklabels=[0,60,120,180,240,300,360])\n",
    "    axarr[0,1].set(ylabel='Magnetic Field (mT)',xlabel='Frequency (Hz)')\n",
    "    axarr[0,1].set_title('Bx FFT')\n",
    "    axarr[0,1].grid()\n",
    "    ymax_Bxfft = max(Bxfft)\n",
    "    xpos_Bxfft = Bxfft.tolist().index(ymax_Bxfft)\n",
    "    #xpos_Bxfft = Bxfft.argmax(ymax_Bxfft)\n",
    "    xmax_Bxfft = f[xpos_Bxfft]\n",
    "    #axarr[0,1].text(220, 0.02,str(format(xmax_Bxfft,'.3g'))+'Hz Bx:'+str(format(ymax_Bxfft,'.3g'))+'mT',verticalalignment='bottom', \n",
    "    #            horizontalalignment='right',)\n",
    "            \n",
    "\n",
    "\n",
    "    Byfft=2.0/data2_len * np.abs(scipy.fftpack.fft(data_2['By'])[:data2_len//2])\n",
    "    axarr[1,1].plot(f, Byfft)\n",
    "    axarr[1,1].set(ylabel='Magnetic Field (mT)',xlabel='Frequency (Hz)')\n",
    "    axarr[1,1].set_title('By FFT')\n",
    "    axarr[1,1].grid()\n",
    "    ymax_Byfft = max(Byfft)\n",
    "    xpos_Byfft = Byfft.tolist().index(ymax_Byfft)\n",
    "    xmax_Byfft = f[xpos_Byfft]\n",
    "    #axarr[1,1].text(220, 0.8,str(format(xmax_Byfft,'.3g'))+'Hz By:'+str(format(ymax_Byfft,'.3g'))+'mT',verticalalignment='bottom', \n",
    "    #            horizontalalignment='right',)\n",
    "   \n",
    "\n",
    "\n",
    "    Bzfft=2.0/data2_len * np.abs(scipy.fftpack.fft(data_2['Bz'])[:data2_len//2])\n",
    "    axarr[2,1].plot(f,Bzfft)\n",
    "    axarr[2,1].set_title('Bz FFT')\n",
    "    axarr[2,1].set(ylabel='Magnetic Field (mT)',xlabel='Frequency (Hz)')\n",
    "    axarr[2,1].grid()\n",
    "    ymax_Bzfft = max(Bzfft)\n",
    "    xpos_Bzfft = Bzfft.tolist().index(ymax_Bzfft)\n",
    "    xmax_Bzfft = f[xpos_Bzfft]\n",
    "    #axarr[2,1].text(220, 0.015,str(format(xmax_Bzfft,'.3g'))+'Hz By:'+str(format(ymax_Bzfft,'.3g'))+'mT',verticalalignment='bottom', \n",
    "    #            horizontalalignment='right',)\n",
    "\n",
    "    fig.suptitle('Bx (60Hz):'+str(format(ymax_Bxfft,'.3g'))+'mT'+' By (60Hz):'+str(format(ymax_Byfft,'.3g'))+'mT'+' Bz (60Hz):'\n",
    "             +str(format(ymax_Bzfft,'.3g'))+'mT', fontsize=14, fontweight='bold')\n",
    "\n",
    "    fig.savefig('figure/'+filename+'0.png')"
   ]
  },
  {
   "cell_type": "code",
   "execution_count": 4,
   "metadata": {
    "collapsed": false
   },
   "outputs": [
    {
     "name": "stdout",
     "output_type": "stream",
     "text": [
      "Generate graph for y 12 mm AC Measurements_1-12-2018_11-39-41 PM.txt\n"
     ]
    }
   ],
   "source": [
    "fft_fig_out('y 12 mm AC Measurements_1-12-2018_11-39-41 PM.txt')\n",
    "#y 12 mm AC Measurements_1-12-2018_11-39-41 PM\n",
    "#0_AC Measurements_1-12-2018_10-35-59 PM"
   ]
  },
  {
   "cell_type": "code",
   "execution_count": 5,
   "metadata": {
    "collapsed": false
   },
   "outputs": [
    {
     "data": {
      "text/html": [
       "<div>\n",
       "<table border=\"1\" class=\"dataframe\">\n",
       "  <thead>\n",
       "    <tr style=\"text-align: right;\">\n",
       "      <th></th>\n",
       "      <th>0</th>\n",
       "      <th>1</th>\n",
       "      <th>2</th>\n",
       "      <th>3</th>\n",
       "      <th>4</th>\n",
       "      <th>5</th>\n",
       "      <th>6</th>\n",
       "    </tr>\n",
       "  </thead>\n",
       "  <tbody>\n",
       "    <tr>\n",
       "      <th>0</th>\n",
       "      <td>Time stamp</td>\n",
       "      <td>NaN</td>\n",
       "      <td>Bx</td>\n",
       "      <td>NaN</td>\n",
       "      <td>By</td>\n",
       "      <td>NaN</td>\n",
       "      <td>Bz</td>\n",
       "    </tr>\n",
       "    <tr>\n",
       "      <th>1</th>\n",
       "      <td>NaN</td>\n",
       "      <td>NaN</td>\n",
       "      <td>NaN</td>\n",
       "      <td>NaN</td>\n",
       "      <td>NaN</td>\n",
       "      <td>NaN</td>\n",
       "      <td>NaN</td>\n",
       "    </tr>\n",
       "    <tr>\n",
       "      <th>2</th>\n",
       "      <td>1/12/2018 22:40:49:.140</td>\n",
       "      <td>1.691003</td>\n",
       "      <td>-0.289774</td>\n",
       "      <td>0.009164</td>\n",
       "      <td>NaN</td>\n",
       "      <td>NaN</td>\n",
       "      <td>NaN</td>\n",
       "    </tr>\n",
       "    <tr>\n",
       "      <th>3</th>\n",
       "      <td>1/12/2018 22:40:49:.140</td>\n",
       "      <td>1.692181</td>\n",
       "      <td>-0.289248</td>\n",
       "      <td>0.006022</td>\n",
       "      <td>NaN</td>\n",
       "      <td>NaN</td>\n",
       "      <td>NaN</td>\n",
       "    </tr>\n",
       "    <tr>\n",
       "      <th>4</th>\n",
       "      <td>1/12/2018 22:40:49:.140</td>\n",
       "      <td>1.691894</td>\n",
       "      <td>-0.288623</td>\n",
       "      <td>0.001188</td>\n",
       "      <td>NaN</td>\n",
       "      <td>NaN</td>\n",
       "      <td>NaN</td>\n",
       "    </tr>\n",
       "  </tbody>\n",
       "</table>\n",
       "</div>"
      ],
      "text/plain": [
       "                         0         1          2         3    4   5    6\n",
       "0               Time stamp       NaN         Bx       NaN   By NaN   Bz\n",
       "1                      NaN       NaN        NaN       NaN  NaN NaN  NaN\n",
       "2  1/12/2018 22:40:49:.140  1.691003  -0.289774  0.009164  NaN NaN  NaN\n",
       "3  1/12/2018 22:40:49:.140  1.692181  -0.289248  0.006022  NaN NaN  NaN\n",
       "4  1/12/2018 22:40:49:.140  1.691894  -0.288623  0.001188  NaN NaN  NaN"
      ]
     },
     "execution_count": 5,
     "metadata": {},
     "output_type": "execute_result"
    }
   ],
   "source": [
    "#data = pd.read_csv('txt/0_AC Measurements_1-12-2018_10-35-59 PM.txt', sep=\"\\t\", header=None)\n",
    "data = pd.read_csv('txt/10 mm AC Measurements_1-12-2018_10-40-49 PM.txt', sep=\"\\t\", header=None)\n",
    "data.head()"
   ]
  },
  {
   "cell_type": "code",
   "execution_count": 6,
   "metadata": {
    "collapsed": false
   },
   "outputs": [
    {
     "name": "stdout",
     "output_type": "stream",
     "text": [
      "There are 75160 number of Test points\n",
      "\n",
      "How many points you want to plot30000\n",
      "         Bx        By        Bz\n",
      "0  1.691003 -0.289774  0.009164\n",
      "1  1.692181 -0.289248  0.006022\n",
      "2  1.691894 -0.288623  0.001188\n",
      "3  1.690304 -0.287898 -0.005074\n",
      "4  1.687908 -0.286916 -0.012172\n",
      "\n",
      "This test has points of:30000\n"
     ]
    }
   ],
   "source": [
    "print('There are '+str(len(data)-3)+' number of Test points\\n')\n",
    "len_input = int(input(\"How many points you want to plot\"))\n",
    "data_2=data.iloc[2:len_input+2,[1,2,3]].copy(deep=False).reset_index(drop=True).apply(pd.to_numeric)\n",
    "#By is object\n",
    "data_2.columns = [\"Bx\", \"By\", \"Bz\"]\n",
    "print(data_2.head())\n",
    "data2_len = len(data_2)\n",
    "print('\\nThis test has points of:'+ str(data2_len) )\n",
    "x_values =  np.linspace(0,data2_len*0.00002,data2_len,endpoint=False)"
   ]
  },
  {
   "cell_type": "code",
   "execution_count": 7,
   "metadata": {
    "collapsed": false
   },
   "outputs": [
    {
     "name": "stdout",
     "output_type": "stream",
     "text": [
      "[  2.05492980e-03   9.72305051e-04   1.02361673e-04 ...,   2.78220576e-05\n",
      "   2.30887768e-05   1.00207224e-05]\n"
     ]
    },
    {
     "name": "stderr",
     "output_type": "stream",
     "text": [
      "C:\\Users\\zxu\\AppData\\Local\\Continuum\\Anaconda3\\lib\\site-packages\\ipykernel\\__main__.py:38: DeprecationWarning: using a non-integer number instead of an integer will result in an error in the future\n",
      "C:\\Users\\zxu\\AppData\\Local\\Continuum\\Anaconda3\\lib\\site-packages\\ipykernel\\__main__.py:51: DeprecationWarning: using a non-integer number instead of an integer will result in an error in the future\n"
     ]
    }
   ],
   "source": [
    "fig, axarr = plt.subplots(3,2, sharex='col',figsize=(12,10))\n",
    "#fig.tight_layout()\n",
    "#fig.tight_layout(pad=1.5, h_pad=1.2, w_pad=1.2, rect=None)\n",
    "plt.subplots_adjust(hspace = 0.3,wspace = 0.4)\n",
    "axarr[0,0].scatter(x_values,data_2['Bx'],s=10, c='red')\n",
    "axarr[0,0].set(ylabel='Magnetic Field (mT)',xlabel='Time (s)')\n",
    "axarr[0,0].legend(loc='best')\n",
    "axarr[1,0].scatter(x_values,data_2['By'],s=10, c='red')\n",
    "axarr[1,0].set(ylabel='Magnetic Field (mT)',xlabel='Time (s)')\n",
    "axarr[1,0].legend(loc='best')\n",
    "axarr[2,0].scatter(x_values,data_2['Bz'],s=10, c='red')\n",
    "axarr[2,0].set(ylabel='Magnetic Field (mT)',xlabel='Time (s)')\n",
    "axarr[2,0].legend(loc='best')\n",
    "f = np.linspace(0.0, 1.0/(2.0*1/50000), data2_len/2)\n",
    "\n",
    "Bxfft=2.0/data2_len * np.abs(scipy.fftpack.fft(data_2['Bx'])[:data2_len//2])\n",
    "print(Bxfft)\n",
    "axarr[0,1].plot(f, Bxfft)\n",
    "axarr[0,1].set_xlim(0,360)\n",
    "axarr[0,1].xaxis.set(ticks=[0,60,120,180,240,300,360],ticklabels=[0,60,120,180,240,300,360])\n",
    "axarr[0,1].set(ylabel='Magnetic Field (mT)',xlabel='Frequency (Hz)')\n",
    "axarr[0,1].set_title('Bx FFT')\n",
    "axarr[0,1].grid()\n",
    "ymax_Bxfft = max(Bxfft)\n",
    "xpos_Bxfft = Bxfft.tolist().index(ymax_Bxfft)\n",
    "xmax_Bxfft = f[xpos_Bxfft]\n",
    "axarr[0,1].text(220, 0.02,str(format(xmax_Bxfft,'.3g'))+'Hz Bx:'+str(format(ymax_Bxfft,'.3g'))+'mT',verticalalignment='bottom', \n",
    "                horizontalalignment='right',)\n",
    "            \n",
    "\n",
    "\n",
    "Byfft=2.0/data2_len * np.abs(scipy.fftpack.fft(data_2['By'])[:data2_len//2])\n",
    "axarr[1,1].plot(f, Byfft)\n",
    "axarr[1,1].set(ylabel='Magnetic Field (mT)',xlabel='Frequency (Hz)')\n",
    "axarr[1,1].set_title('By FFT')\n",
    "axarr[1,1].grid()\n",
    "ymax_Byfft = max(Byfft)\n",
    "xpos_Byfft = Byfft.argmax(ymax_Byfft)\n",
    "xmax_Byfft = f[xpos_Byfft]\n",
    "axarr[1,1].text(220, 0.8,str(format(xmax_Byfft,'.3g'))+'Hz By:'+str(format(ymax_Byfft,'.3g'))+'mT',verticalalignment='bottom', \n",
    "                horizontalalignment='right',)\n",
    "   \n",
    "\n",
    "\n",
    "Bzfft=2.0/data2_len * np.abs(scipy.fftpack.fft(data_2['Bz'])[:data2_len//2])\n",
    "axarr[2,1].plot(f,Bzfft)\n",
    "axarr[2,1].set_title('Bz FFT')\n",
    "axarr[2,1].set(ylabel='Magnetic Field (mT)',xlabel='Frequency (Hz)')\n",
    "axarr[2,1].grid()\n",
    "ymax_Bzfft = max(Bzfft)\n",
    "xpos_Bzfft = Byfft.argmax(ymax_Bzfft)\n",
    "xmax_Bzfft = f[xpos_Bzfft]\n",
    "axarr[2,1].text(220, 0.015,str(format(xmax_Bzfft,'.3g'))+'Hz By:'+str(format(ymax_Bzfft,'.3g'))+'mT',verticalalignment='bottom', \n",
    "                horizontalalignment='right',)\n",
    "\n",
    "fig.suptitle('Bx (60Hz):'+str(format(ymax_Bxfft,'.3g'))+'mT'+' By (60Hz):'+str(format(ymax_Byfft,'.3g'))+'mT'+' Bz (60Hz):'\n",
    "             +str(format(ymax_Bzfft,'.3g'))+'mT', fontsize=14, fontweight='bold')\n",
    "\n",
    "fig.savefig('figure/0.png')"
   ]
  },
  {
   "cell_type": "code",
   "execution_count": 8,
   "metadata": {
    "collapsed": false
   },
   "outputs": [
    {
     "name": "stdout",
     "output_type": "stream",
     "text": [
      "['txt\\\\0_AC Measurements_1-12-2018_10-35-59 PM.txt', 'txt\\\\10 mm AC Measurements_1-12-2018_10-40-49 PM.txt', 'txt\\\\12mm AC Measurements_1-12-2018_10-47-54 PM.txt', 'txt\\\\14 mm AC Measurements_1-12-2018_10-48-44 PM.txt', 'txt\\\\16 mm AC Measurements_1-12-2018_10-49-27 PM.txt', 'txt\\\\18 mm AC Measurements_1-12-2018_10-49-55 PM.txt', 'txt\\\\20 mm AC Measurements_1-12-2018_11-12-22 PM.txt', 'txt\\\\22 mm AC Measurements_1-12-2018_11-12-51 PM.txt', 'txt\\\\24 mm AC Measurements_1-12-2018_11-13-16 PM.txt', 'txt\\\\26 mm AC Measurements_1-12-2018_11-13-35 PM.txt', 'txt\\\\28 mm AC Measurements_1-12-2018_11-14-13 PM.txt', 'txt\\\\2mm_AC Measurements_1-12-2018_10-37-19 PM.txt', 'txt\\\\30 mm AC Measurements_1-12-2018_11-14-40 PM.txt', 'txt\\\\32 mm AC Measurements_1-12-2018_11-15-02 PM.txt', 'txt\\\\34 mm AC Measurements_1-12-2018_11-15-19 PM.txt', 'txt\\\\36 mm AC Measurements_1-12-2018_11-15-40 PM.txt', 'txt\\\\38 mm AC Measurements_1-12-2018_11-16-01 PM.txt', 'txt\\\\40 mm AC Measurements_1-12-2018_11-16-19 PM.txt', 'txt\\\\42 mm AC Measurements_1-12-2018_11-16-49 PM.txt', 'txt\\\\44 mm AC Measurements_1-12-2018_11-17-12 PM.txt', 'txt\\\\46 mm AC Measurements_1-12-2018_11-17-45 PM.txt', 'txt\\\\48 mm AC Measurements_1-12-2018_11-18-04 PM.txt', 'txt\\\\4mm_AC Measurements_1-12-2018_10-37-53 PM.txt', 'txt\\\\50 mm AC Measurements_1-12-2018_11-18-28 PM.txt', 'txt\\\\52 mm AC Measurements_1-12-2018_11-28-23 PM.txt', 'txt\\\\54 mm AC Measurements_1-12-2018_11-28-51 PM.txt', 'txt\\\\6mm_AC Measurements_1-12-2018_10-39-52 PM.txt', 'txt\\\\8mm AC Measurements_1-12-2018_10-40-22 PM.txt', 'txt\\\\y 10mm AC Measurements_1-12-2018_11-38-23 PM.txt', 'txt\\\\y 12 mm AC Measurements_1-12-2018_11-39-41 PM.txt', 'txt\\\\y 2mm AC Measurements_1-12-2018_11-35-56 PM.txt', 'txt\\\\y 4mm AC Measurements_1-12-2018_11-36-42 PM.txt', 'txt\\\\y 6mm AC Measurements_1-12-2018_11-37-17 PM.txt', 'txt\\\\y 8mm AC Measurements_1-12-2018_11-37-45 PM.txt']\n"
     ]
    }
   ],
   "source": [
    "import glob\n",
    "print(glob.glob(\"txt/*.txt\"))"
   ]
  },
  {
   "cell_type": "code",
   "execution_count": 9,
   "metadata": {
    "collapsed": false
   },
   "outputs": [],
   "source": [
    "from os import listdir\n",
    "from os.path import isfile, join\n",
    "onlyfiles = [f for f in listdir(\"txt\") if isfile(join(\"txt\", f))]"
   ]
  },
  {
   "cell_type": "code",
   "execution_count": 10,
   "metadata": {
    "collapsed": false
   },
   "outputs": [
    {
     "data": {
      "text/plain": [
       "['0_AC Measurements_1-12-2018_10-35-59 PM.txt',\n",
       " '10 mm AC Measurements_1-12-2018_10-40-49 PM.txt',\n",
       " '12mm AC Measurements_1-12-2018_10-47-54 PM.txt',\n",
       " '14 mm AC Measurements_1-12-2018_10-48-44 PM.txt',\n",
       " '16 mm AC Measurements_1-12-2018_10-49-27 PM.txt',\n",
       " '18 mm AC Measurements_1-12-2018_10-49-55 PM.txt',\n",
       " '20 mm AC Measurements_1-12-2018_11-12-22 PM.txt',\n",
       " '22 mm AC Measurements_1-12-2018_11-12-51 PM.txt',\n",
       " '24 mm AC Measurements_1-12-2018_11-13-16 PM.txt',\n",
       " '26 mm AC Measurements_1-12-2018_11-13-35 PM.txt',\n",
       " '28 mm AC Measurements_1-12-2018_11-14-13 PM.txt',\n",
       " '2mm_AC Measurements_1-12-2018_10-37-19 PM.txt',\n",
       " '30 mm AC Measurements_1-12-2018_11-14-40 PM.txt',\n",
       " '32 mm AC Measurements_1-12-2018_11-15-02 PM.txt',\n",
       " '34 mm AC Measurements_1-12-2018_11-15-19 PM.txt',\n",
       " '36 mm AC Measurements_1-12-2018_11-15-40 PM.txt',\n",
       " '38 mm AC Measurements_1-12-2018_11-16-01 PM.txt',\n",
       " '40 mm AC Measurements_1-12-2018_11-16-19 PM.txt',\n",
       " '42 mm AC Measurements_1-12-2018_11-16-49 PM.txt',\n",
       " '44 mm AC Measurements_1-12-2018_11-17-12 PM.txt',\n",
       " '46 mm AC Measurements_1-12-2018_11-17-45 PM.txt',\n",
       " '48 mm AC Measurements_1-12-2018_11-18-04 PM.txt',\n",
       " '4mm_AC Measurements_1-12-2018_10-37-53 PM.txt',\n",
       " '50 mm AC Measurements_1-12-2018_11-18-28 PM.txt',\n",
       " '52 mm AC Measurements_1-12-2018_11-28-23 PM.txt',\n",
       " '54 mm AC Measurements_1-12-2018_11-28-51 PM.txt',\n",
       " '6mm_AC Measurements_1-12-2018_10-39-52 PM.txt',\n",
       " '8mm AC Measurements_1-12-2018_10-40-22 PM.txt',\n",
       " 'y 10mm AC Measurements_1-12-2018_11-38-23 PM.txt',\n",
       " 'y 12 mm AC Measurements_1-12-2018_11-39-41 PM.txt',\n",
       " 'y 2mm AC Measurements_1-12-2018_11-35-56 PM.txt',\n",
       " 'y 4mm AC Measurements_1-12-2018_11-36-42 PM.txt',\n",
       " 'y 6mm AC Measurements_1-12-2018_11-37-17 PM.txt',\n",
       " 'y 8mm AC Measurements_1-12-2018_11-37-45 PM.txt']"
      ]
     },
     "execution_count": 10,
     "metadata": {},
     "output_type": "execute_result"
    }
   ],
   "source": [
    "onlyfiles"
   ]
  },
  {
   "cell_type": "code",
   "execution_count": 11,
   "metadata": {
    "collapsed": false
   },
   "outputs": [],
   "source": [
    "#for file in onlyfiles:\n",
    "#    fft_fig_out(file)"
   ]
  },
  {
   "cell_type": "code",
   "execution_count": null,
   "metadata": {
    "collapsed": true
   },
   "outputs": [],
   "source": []
  }
 ],
 "metadata": {
  "kernelspec": {
   "display_name": "Python 3",
   "language": "python",
   "name": "python3"
  },
  "language_info": {
   "codemirror_mode": {
    "name": "ipython",
    "version": 3
   },
   "file_extension": ".py",
   "mimetype": "text/x-python",
   "name": "python",
   "nbconvert_exporter": "python",
   "pygments_lexer": "ipython3",
   "version": "3.5.1"
  }
 },
 "nbformat": 4,
 "nbformat_minor": 0
}
